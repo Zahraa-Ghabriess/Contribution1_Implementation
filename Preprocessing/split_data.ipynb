{
 "cells": [
  {
   "cell_type": "code",
   "execution_count": 2,
   "id": "67cc2695",
   "metadata": {},
   "outputs": [
    {
     "name": "stderr",
     "output_type": "stream",
     "text": [
      "c:\\Users\\IGaming\\Desktop\\Current Work\\PhD\\Work\\Contributions\\Contribution1_Implementation\\Contribution1_Implementation\\cont1_venv\\Lib\\site-packages\\numpy\\_core\\fromnumeric.py:57: FutureWarning: 'DataFrame.swapaxes' is deprecated and will be removed in a future version. Please use 'DataFrame.transpose' instead.\n",
      "  return bound(*args, **kwds)\n"
     ]
    },
    {
     "name": "stdout",
     "output_type": "stream",
     "text": [
      "Saved partition 1 to Partitions/client_1.csv\n",
      "Saved partition 2 to Partitions/client_2.csv\n",
      "Saved partition 3 to Partitions/client_3.csv\n",
      "Saved partition 4 to Partitions/client_4.csv\n",
      "Saved partition 5 to Partitions/client_5.csv\n",
      "Saved partition 6 to Partitions/client_6.csv\n",
      "Saved partition 7 to Partitions/client_7.csv\n",
      "Saved partition 8 to Partitions/client_8.csv\n",
      "Saved partition 9 to Partitions/client_9.csv\n",
      "Saved partition 10 to Partitions/client_10.csv\n"
     ]
    }
   ],
   "source": [
    "import numpy as np\n",
    "import pandas as pd\n",
    "\n",
    "NUM_CLIENTS = 10\n",
    "BATCH_SIZE = 32\n",
    "\n",
    "# Load your dataset (replace with the path to your dataset)\n",
    "df = pd.read_csv('Unified_Dataset/resampled_binary_training_data.csv')\n",
    "\n",
    "# Split the DataFrame into 10 partitions\n",
    "partitions = np.array_split(df, 10)\n",
    "\n",
    "# Save each partition into a separate CSV file\n",
    "for i, partition in enumerate(partitions):\n",
    "    partition_filename = f'Partitions/client_{i+1}.csv'  # Naming convention for partitions\n",
    "    partition.to_csv(partition_filename, index=False)  # Save the partition to a CSV file\n",
    "    print(f'Saved partition {i+1} to {partition_filename}')"
   ]
  },
  {
   "cell_type": "code",
   "execution_count": 3,
   "id": "d2622c53",
   "metadata": {},
   "outputs": [
    {
     "name": "stdout",
     "output_type": "stream",
     "text": [
      "Number of columns: 48\n"
     ]
    }
   ],
   "source": [
    "# Get the number of columns\n",
    "num_columns = df.shape[1]\n",
    "\n",
    "print(\"Number of columns:\", num_columns) #remove 2 columns: label, ID ro get the number of features for training"
   ]
  }
 ],
 "metadata": {
  "kernelspec": {
   "display_name": "cont1_venv",
   "language": "python",
   "name": "python3"
  },
  "language_info": {
   "codemirror_mode": {
    "name": "ipython",
    "version": 3
   },
   "file_extension": ".py",
   "mimetype": "text/x-python",
   "name": "python",
   "nbconvert_exporter": "python",
   "pygments_lexer": "ipython3",
   "version": "3.12.2"
  }
 },
 "nbformat": 4,
 "nbformat_minor": 5
}
